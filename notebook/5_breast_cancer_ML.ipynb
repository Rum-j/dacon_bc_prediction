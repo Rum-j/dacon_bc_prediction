{
  "cells": [
    {
      "cell_type": "markdown",
      "metadata": {
        "id": "GU1j-kphkdFt"
      },
      "source": [
        "# 데이터 다운로드"
      ]
    },
    {
      "cell_type": "code",
      "execution_count": null,
      "metadata": {
        "colab": {
          "base_uri": "https://localhost:8080/"
        },
        "id": "9GUtL07zPl2E",
        "outputId": "e4beb7e0-8581-4798-84ff-a7c44f26849a"
      },
      "outputs": [
        {
          "name": "stdout",
          "output_type": "stream",
          "text": [
            "--2022-11-20 08:02:59--  https://docs.google.com/uc?export=download&confirm=t&id=1JxLLEBlwt8qtEOpxMSHAKRYapU7ycDaJ\n",
            "Resolving docs.google.com (docs.google.com)... 142.251.12.113, 142.251.12.138, 142.251.12.101, ...\n",
            "Connecting to docs.google.com (docs.google.com)|142.251.12.113|:443... connected.\n",
            "HTTP request sent, awaiting response... 303 See Other\n",
            "Location: https://doc-0s-84-docs.googleusercontent.com/docs/securesc/ha0ro937gcuc7l7deffksulhg5h7mbp1/jmf3j5e5sa1omja69t4aq41k1jgvbll1/1668931350000/15503499385774260746/*/1JxLLEBlwt8qtEOpxMSHAKRYapU7ycDaJ?e=download&uuid=8bce762e-d1be-4a67-a2db-1841327bbf99 [following]\n",
            "Warning: wildcards not supported in HTTP.\n",
            "--2022-11-20 08:02:59--  https://doc-0s-84-docs.googleusercontent.com/docs/securesc/ha0ro937gcuc7l7deffksulhg5h7mbp1/jmf3j5e5sa1omja69t4aq41k1jgvbll1/1668931350000/15503499385774260746/*/1JxLLEBlwt8qtEOpxMSHAKRYapU7ycDaJ?e=download&uuid=8bce762e-d1be-4a67-a2db-1841327bbf99\n",
            "Resolving doc-0s-84-docs.googleusercontent.com (doc-0s-84-docs.googleusercontent.com)... 142.251.10.132, 2404:6800:4003:c0f::84\n",
            "Connecting to doc-0s-84-docs.googleusercontent.com (doc-0s-84-docs.googleusercontent.com)|142.251.10.132|:443... connected.\n",
            "HTTP request sent, awaiting response... ^C\n",
            "Archive:  open.zip\n",
            "  End-of-central-directory signature not found.  Either this file is not\n",
            "  a zipfile, or it constitutes one disk of a multi-part archive.  In the\n",
            "  latter case the central directory and zipfile comment will be found on\n",
            "  the last disk(s) of this archive.\n",
            "unzip:  cannot find zipfile directory in one of open.zip or\n",
            "        open.zip.zip, and cannot find open.zip.ZIP, period.\n"
          ]
        }
      ],
      "source": [
        "!wget --load-cookies ~/cookies.txt \"https://docs.google.com/uc?export=download&confirm=$(wget --quiet --save-cookies ~/cookies.txt --keep-session-cookies --no-check-certificate 'https://docs.google.com/uc?export=download&id=1JxLLEBlwt8qtEOpxMSHAKRYapU7ycDaJ' -O- | sed -rn 's/.*confirm=([0-9A-Za-z_]+).*/\\1\\n/p')&id=1JxLLEBlwt8qtEOpxMSHAKRYapU7ycDaJ\" -O open.zip && rm -rf ~/cookies.txt\n",
        "!mkdir data\n",
        "!unzip open.zip -d data\n",
        "!rm open.zip"
      ]
    },
    {
      "cell_type": "code",
      "execution_count": null,
      "metadata": {
        "colab": {
          "base_uri": "https://localhost:8080/"
        },
        "id": "EGf4eCqActw8",
        "outputId": "88b7caf0-49af-4d1b-93cb-85064d3a630f"
      },
      "outputs": [
        {
          "name": "stdout",
          "output_type": "stream",
          "text": [
            "Mounted at /content/drive\n"
          ]
        }
      ],
      "source": [
        "from google.colab import drive\n",
        "drive.mount('/content/drive')"
      ]
    },
    {
      "cell_type": "markdown",
      "metadata": {
        "id": "RVGYah7mKB0b"
      },
      "source": [
        "# load"
      ]
    },
    {
      "cell_type": "code",
      "execution_count": null,
      "metadata": {
        "id": "55xztXvoKRdb"
      },
      "outputs": [],
      "source": [
        "import pandas as pd\n",
        "import numpy as np\n",
        "import matplotlib.pyplot as plt\n",
        "import seaborn as sns\n",
        "import os\n",
        "import cv2\n",
        "\n",
        "from sklearn import metrics\n",
        "\n",
        "from sklearn.model_selection import train_test_split\n",
        "from sklearn.model_selection import StratifiedKFold, KFold, RepeatedKFold, GroupKFold, GridSearchCV, train_test_split, TimeSeriesSplit\n",
        "\n",
        "import warnings\n",
        "warnings.filterwarnings(action='ignore') "
      ]
    },
    {
      "cell_type": "code",
      "execution_count": null,
      "metadata": {
        "id": "_MCUPHCa0Q41"
      },
      "outputs": [],
      "source": [
        "base = '/content/drive/MyDrive/colab_data/dacondata/'"
      ]
    },
    {
      "cell_type": "code",
      "execution_count": null,
      "metadata": {
        "id": "a62c78cd-4f40-4e98-b8a6-1b6f1d906b4d"
      },
      "outputs": [],
      "source": [
        "train_df = pd.read_csv(base + 'train_imgf_6ls.csv') # gleason score weights 5 / 6 logits mean(0 2 4 6 8 10)\n",
        "test_df = pd.read_csv(base + 'test_imgf_6ls.csv') \n",
        "\n",
        "train_ratio = pd.read_csv(base + 'train_ratio2.csv') # ratio from whole image\n",
        "test_ratio = pd.read_csv(base + 'test_ratio2.csv')\n",
        "train_ratio3 = pd.read_csv(base + 'train_ratio3.csv') # ratio from whole image\n",
        "test_ratio3 = pd.read_csv(base + 'test_ratio3.csv')\n",
        "\n",
        "\n",
        "#train_df = pd.read_csv(base + 'train.csv')\n",
        "#test_df = pd.read_csv(base + 'test.csv')"
      ]
    },
    {
      "cell_type": "code",
      "execution_count": null,
      "metadata": {
        "id": "XQAMgvSLXdmD"
      },
      "outputs": [],
      "source": [
        "# merge with ratio csv\n",
        "train_ratio['path'] = train_ratio['path'].str.replace('.png', '')\n",
        "train_ratio.columns = ['ID', 'ratio']\n",
        "train_df = pd.merge(train_df, train_ratio)\n",
        "\n",
        "test_ratio['path'] = test_ratio['path'].str.replace('.png', '')\n",
        "test_ratio.columns = ['ID', 'ratio']\n",
        "test_df = pd.merge(test_df, test_ratio)\n",
        "\n",
        "\n",
        "train_ratio3['path'] = train_ratio3['path'].str.replace('.png', '')\n",
        "train_ratio3.columns = ['ID', 'ratio2']\n",
        "train_df = pd.merge(train_df, train_ratio3)\n",
        "\n",
        "test_ratio3['path'] = test_ratio3['path'].str.replace('.png', '')\n",
        "test_ratio3.columns = ['ID', 'ratio2']\n",
        "test_df = pd.merge(test_df, test_ratio3)"
      ]
    },
    {
      "cell_type": "markdown",
      "metadata": {
        "id": "dQ1kIDJcjx-F"
      },
      "source": [
        "# 전처리"
      ]
    },
    {
      "cell_type": "code",
      "execution_count": null,
      "metadata": {
        "id": "jgw7HprMKYgs"
      },
      "outputs": [],
      "source": [
        "# 한글 컬럼명 영문으로 변경\n",
        "train_df = train_df.rename(columns={'나이':'age','수술연월일':'date', '진단명':'Diagnosis', '암의 위치':'location', '암의 개수':'count', '암의 장경':'size', 'DCIS_or_LCIS_여부':'DCIS_or_LCIS_existence'}) \n",
        "test_df = test_df.rename(columns={'나이':'age','수술연월일':'date', '진단명':'Diagnosis', '암의 위치':'location', '암의 개수':'count', '암의 장경':'size', 'DCIS_or_LCIS_여부':'DCIS_or_LCIS_existence'}) "
      ]
    },
    {
      "cell_type": "markdown",
      "metadata": {
        "id": "UURyZPID67i5"
      },
      "source": [
        "## feature 변환"
      ]
    },
    {
      "cell_type": "code",
      "execution_count": null,
      "metadata": {
        "id": "gQa3Ey_l677Q"
      },
      "outputs": [],
      "source": [
        "# date 변환\n",
        "\n",
        "import datetime as dt\n",
        "someday = pd.to_datetime('2000-01-01')\n",
        "train_df['date'] = pd.to_datetime(train_df['date']) - someday\n",
        "train_df['date'] = train_df['date'].dt.days / 1000\n",
        "\n",
        "test_df['date'] = pd.to_datetime(test_df['date']) - someday\n",
        "test_df['date'] = test_df['date'].dt.days / 1000"
      ]
    },
    {
      "cell_type": "code",
      "execution_count": null,
      "metadata": {
        "id": "fLsINV113lz9"
      },
      "outputs": [],
      "source": [
        "# 0이 의미가 있는 컬럼들은 숫자를 1씩 올려줘서 nan값이 채워질 0과 구분할수 있게 해준다.\n",
        "\n",
        "train_df['DCIS_or_LCIS_existence'] += 1\n",
        "train_df['ER'] += 1\n",
        "train_df['HER2'] += 1\n",
        "train_df['HER2_IHC'] += 1\n",
        "\n",
        "test_df['DCIS_or_LCIS_existence'] += 1\n",
        "test_df['ER'] += 1\n",
        "test_df['HER2'] += 1\n",
        "test_df['HER2_IHC'] += 1"
      ]
    },
    {
      "cell_type": "code",
      "execution_count": null,
      "metadata": {
        "id": "Ea6oYddwdE2R"
      },
      "outputs": [],
      "source": [
        "train_df['PR'] += 1\n",
        "train_df['T_category'] += 1\n",
        "train_df['BRCA_mutation'] += 1\n",
        "train_df['HER2_SISH'] += 1\n",
        "\n",
        "test_df['PR'] += 1\n",
        "test_df['T_category'] += 1\n",
        "test_df['BRCA_mutation'] += 1\n",
        "test_df['HER2_SISH'] += 1"
      ]
    },
    {
      "cell_type": "markdown",
      "metadata": {
        "id": "cFv2E_91hrPa"
      },
      "source": [
        "## 이상치 제거"
      ]
    },
    {
      "cell_type": "code",
      "execution_count": null,
      "metadata": {
        "id": "6_ipCa1Ghu2X"
      },
      "outputs": [],
      "source": [
        "# 휴먼에러 제거\n",
        "train_df['PR_Allred_score'].loc[train_df['PR_Allred_score']==23] = 3\n",
        "train_df['PR_Allred_score'].loc[train_df['PR_Allred_score']==54] = 4"
      ]
    },
    {
      "cell_type": "markdown",
      "metadata": {
        "id": "zlC61P_XYYh6"
      },
      "source": [
        "## One hot encoding"
      ]
    },
    {
      "cell_type": "code",
      "execution_count": null,
      "metadata": {
        "id": "R8RY4hjN6cI-"
      },
      "outputs": [],
      "source": [
        "# one hot encoding\n",
        "train_df['location_left'] = train_df['location'].apply(lambda x :1 if x==1 else 0)\n",
        "train_df['location_right'] = train_df['location'].apply(lambda x :1 if x==2 else 0)\n",
        "train_df['location_both'] = train_df['location'].apply(lambda x :1 if x==3 else 0)\n",
        "\n",
        "train_df['Diagnosis_ductal'] = train_df['Diagnosis'].apply(lambda x :1 if x==1 else 0)\n",
        "train_df['Diagnosis_lobular'] = train_df['Diagnosis'].apply(lambda x :1 if x==2 else 0)\n",
        "train_df['Diagnosis_mucinous'] = train_df['Diagnosis'].apply(lambda x :1 if x==3 else 0)\n",
        "train_df['Diagnosis_other'] = train_df['Diagnosis'].apply(lambda x :1 if x==4 else 0)\n",
        "\n",
        "test_df['location_left'] = test_df['location'].apply(lambda x :1 if x==1 else 0)\n",
        "test_df['location_right'] = test_df['location'].apply(lambda x :1 if x==2 else 0)\n",
        "test_df['location_both'] = test_df['location'].apply(lambda x :1 if x==3 else 0)\n",
        "\n",
        "test_df['Diagnosis_ductal'] = test_df['Diagnosis'].apply(lambda x :1 if x==1 else 0)\n",
        "test_df['Diagnosis_lobular'] = test_df['Diagnosis'].apply(lambda x :1 if x==2 else 0)\n",
        "test_df['Diagnosis_mucinous'] = test_df['Diagnosis'].apply(lambda x :1 if x==3 else 0)\n",
        "test_df['Diagnosis_other'] = test_df['Diagnosis'].apply(lambda x :1 if x==4 else 0)\n",
        "\n",
        "train_df = train_df.drop(columns = ['location','Diagnosis',])\n",
        "test_df = test_df.drop(columns = ['location','Diagnosis',])"
      ]
    },
    {
      "cell_type": "markdown",
      "metadata": {
        "id": "w0zPmzP8kOQg"
      },
      "source": [
        "## 결측치 채우기"
      ]
    },
    {
      "cell_type": "code",
      "execution_count": null,
      "metadata": {
        "id": "fyMMjnsyDyXY"
      },
      "outputs": [],
      "source": [
        "\n",
        "train_df['KI-67_LI_percent'].loc[(train_df['KI-67_LI_percent'].isnull() == True) & (train_df['T_category']==1)] = train_df['KI-67_LI_percent'].loc[train_df['T_category']==1].median()\n",
        "train_df['KI-67_LI_percent'].loc[(train_df['KI-67_LI_percent'].isnull() == True) & (train_df['T_category']==2)] = train_df['KI-67_LI_percent'].loc[train_df['T_category']==2].median()\n",
        "train_df['KI-67_LI_percent'].loc[(train_df['KI-67_LI_percent'].isnull() == True) & (train_df['T_category']==3)] = train_df['KI-67_LI_percent'].loc[train_df['T_category']==3].median()\n",
        "train_df['KI-67_LI_percent'].loc[(train_df['KI-67_LI_percent'].isnull() == True) & (train_df['T_category']==4)] = train_df['KI-67_LI_percent'].loc[train_df['T_category']==4].median()\n",
        "\n",
        "\n",
        "test_df['KI-67_LI_percent'].loc[(test_df['KI-67_LI_percent'].isnull() == True) & (test_df['T_category']==1)] = train_df['KI-67_LI_percent'].loc[train_df['T_category']==1].median()\n",
        "test_df['KI-67_LI_percent'].loc[(test_df['KI-67_LI_percent'].isnull() == True) & (test_df['T_category']==2)] = train_df['KI-67_LI_percent'].loc[train_df['T_category']==2].median()\n",
        "test_df['KI-67_LI_percent'].loc[(test_df['KI-67_LI_percent'].isnull() == True) & (test_df['T_category']==3)] = train_df['KI-67_LI_percent'].loc[train_df['T_category']==3].median()\n",
        "test_df['KI-67_LI_percent'].loc[(test_df['KI-67_LI_percent'].isnull() == True) & (test_df['T_category']==4)] = train_df['KI-67_LI_percent'].loc[train_df['T_category']==4].median()\n",
        "\n",
        "\n",
        "train_df['size'].loc[(train_df['size'].isnull() == True) & (train_df['T_category']==1)] = train_df['size'].loc[train_df['T_category']==1].median()\n",
        "train_df['size'].loc[(train_df['size'].isnull() == True) & (train_df['T_category']==2)] = train_df['size'].loc[train_df['T_category']==2].median()\n",
        "train_df['size'].loc[(train_df['size'].isnull() == True) & (train_df['T_category']==3)] = train_df['size'].loc[train_df['T_category']==3].median()\n",
        "train_df['size'].loc[(train_df['size'].isnull() == True) & (train_df['T_category']==4)] = train_df['size'].loc[train_df['T_category']==4].median()\n",
        "\n",
        "\n",
        "test_df['size'].loc[(test_df['size'].isnull() == True) & (test_df['T_category']==1)] = train_df['size'].loc[train_df['T_category']==1].median()\n",
        "test_df['size'].loc[(test_df['size'].isnull() == True) & (test_df['T_category']==2)] = train_df['size'].loc[train_df['T_category']==2].median()\n",
        "test_df['size'].loc[(test_df['size'].isnull() == True) & (test_df['T_category']==3)] = train_df['size'].loc[train_df['T_category']==3].median()\n",
        "test_df['size'].loc[(test_df['size'].isnull() == True) & (test_df['T_category']==4)] = train_df['size'].loc[train_df['T_category']==4].median()\n",
        "\n",
        "\n",
        "train_df['PR_Allred_score'].loc[(train_df['PR_Allred_score'].isnull() == True) & (train_df['NG']==1)] = train_df['PR_Allred_score'].loc[train_df['NG']==1].mean().astype(int)\n",
        "train_df['PR_Allred_score'].loc[(train_df['PR_Allred_score'].isnull() == True) & (train_df['NG']==2)] = train_df['PR_Allred_score'].loc[train_df['NG']==2].mean().astype(int)\n",
        "train_df['PR_Allred_score'].loc[(train_df['PR_Allred_score'].isnull() == True) & (train_df['NG']==3)] = train_df['PR_Allred_score'].loc[train_df['NG']==3].mean().astype(int)\n",
        "\n",
        "test_df['PR_Allred_score'].loc[(test_df['PR_Allred_score'].isnull() == True) & (test_df['NG']==1)] = train_df['PR_Allred_score'].loc[train_df['NG']==1].mean().astype(int)\n",
        "test_df['PR_Allred_score'].loc[(test_df['PR_Allred_score'].isnull() == True) & (test_df['NG']==2)] = train_df['PR_Allred_score'].loc[train_df['NG']==2].mean().astype(int)\n",
        "test_df['PR_Allred_score'].loc[(test_df['PR_Allred_score'].isnull() == True) & (test_df['NG']==3)] = train_df['PR_Allred_score'].loc[train_df['NG']==3].mean().astype(int)\n",
        "\n"
      ]
    },
    {
      "cell_type": "code",
      "execution_count": null,
      "metadata": {
        "id": "vuhIiQO1d3k8"
      },
      "outputs": [],
      "source": [
        "train_df = train_df.fillna(0)\n",
        "test_df = test_df.fillna(0)"
      ]
    },
    {
      "cell_type": "markdown",
      "metadata": {
        "id": "UzW40JW9kLOf"
      },
      "source": [
        "## 컬럼삭제"
      ]
    },
    {
      "cell_type": "code",
      "execution_count": null,
      "metadata": {
        "id": "0XcpNDBDrEgP"
      },
      "outputs": [],
      "source": [
        "# 필수삭제 columns\n",
        "train_df = train_df.drop(columns = ['ID','img_path','mask_path'])\n",
        "test_df = test_df.drop(columns = ['ID','img_path'])"
      ]
    },
    {
      "cell_type": "markdown",
      "metadata": {
        "id": "cZJP8B5FkCxI"
      },
      "source": [
        "# 결과"
      ]
    },
    {
      "cell_type": "markdown",
      "metadata": {
        "id": "92IL3JA8c7BS"
      },
      "source": [
        "## TEST"
      ]
    },
    {
      "cell_type": "code",
      "execution_count": null,
      "metadata": {
        "colab": {
          "base_uri": "https://localhost:8080/"
        },
        "id": "ix65FtkKAKKM",
        "outputId": "70fbcc33-1d54-421b-df80-a4cc1095b540"
      },
      "outputs": [
        {
          "name": "stdout",
          "output_type": "stream",
          "text": [
            "Cloning into 'pystacknet'...\n",
            "remote: Enumerating objects: 42, done.\u001b[K\n",
            "remote: Total 42 (delta 0), reused 0 (delta 0), pack-reused 42\u001b[K\n",
            "Unpacking objects: 100% (42/42), done.\n",
            "warning: pypandoc module not found, could not convert Markdown to RST\n",
            "running install\n",
            "running bdist_egg\n",
            "running egg_info\n",
            "creating pystacknet.egg-info\n",
            "writing pystacknet.egg-info/PKG-INFO\n",
            "writing dependency_links to pystacknet.egg-info/dependency_links.txt\n",
            "writing requirements to pystacknet.egg-info/requires.txt\n",
            "writing top-level names to pystacknet.egg-info/top_level.txt\n",
            "writing manifest file 'pystacknet.egg-info/SOURCES.txt'\n",
            "adding license file 'LICENSE.txt'\n",
            "writing manifest file 'pystacknet.egg-info/SOURCES.txt'\n",
            "installing library code to build/bdist.linux-x86_64/egg\n",
            "running install_lib\n",
            "running build_py\n",
            "creating build\n",
            "creating build/lib\n",
            "creating build/lib/pystacknet\n",
            "copying pystacknet/pystacknet.py -> build/lib/pystacknet\n",
            "copying pystacknet/__init__.py -> build/lib/pystacknet\n",
            "copying pystacknet/metrics.py -> build/lib/pystacknet\n",
            "creating build/lib/pystacknet/test\n",
            "copying pystacknet/test/test_amazon.py -> build/lib/pystacknet/test\n",
            "copying pystacknet/test/__init__.py -> build/lib/pystacknet/test\n",
            "copying pystacknet/test/test_pystacknet.py -> build/lib/pystacknet/test\n",
            "creating build/bdist.linux-x86_64\n",
            "creating build/bdist.linux-x86_64/egg\n",
            "creating build/bdist.linux-x86_64/egg/pystacknet\n",
            "copying build/lib/pystacknet/pystacknet.py -> build/bdist.linux-x86_64/egg/pystacknet\n",
            "copying build/lib/pystacknet/__init__.py -> build/bdist.linux-x86_64/egg/pystacknet\n",
            "copying build/lib/pystacknet/metrics.py -> build/bdist.linux-x86_64/egg/pystacknet\n",
            "creating build/bdist.linux-x86_64/egg/pystacknet/test\n",
            "copying build/lib/pystacknet/test/test_amazon.py -> build/bdist.linux-x86_64/egg/pystacknet/test\n",
            "copying build/lib/pystacknet/test/__init__.py -> build/bdist.linux-x86_64/egg/pystacknet/test\n",
            "copying build/lib/pystacknet/test/test_pystacknet.py -> build/bdist.linux-x86_64/egg/pystacknet/test\n",
            "byte-compiling build/bdist.linux-x86_64/egg/pystacknet/pystacknet.py to pystacknet.cpython-38.pyc\n",
            "byte-compiling build/bdist.linux-x86_64/egg/pystacknet/__init__.py to __init__.cpython-38.pyc\n",
            "byte-compiling build/bdist.linux-x86_64/egg/pystacknet/metrics.py to metrics.cpython-38.pyc\n",
            "byte-compiling build/bdist.linux-x86_64/egg/pystacknet/test/test_amazon.py to test_amazon.cpython-38.pyc\n",
            "byte-compiling build/bdist.linux-x86_64/egg/pystacknet/test/__init__.py to __init__.cpython-38.pyc\n",
            "byte-compiling build/bdist.linux-x86_64/egg/pystacknet/test/test_pystacknet.py to test_pystacknet.cpython-38.pyc\n",
            "creating build/bdist.linux-x86_64/egg/EGG-INFO\n",
            "copying pystacknet.egg-info/PKG-INFO -> build/bdist.linux-x86_64/egg/EGG-INFO\n",
            "copying pystacknet.egg-info/SOURCES.txt -> build/bdist.linux-x86_64/egg/EGG-INFO\n",
            "copying pystacknet.egg-info/dependency_links.txt -> build/bdist.linux-x86_64/egg/EGG-INFO\n",
            "copying pystacknet.egg-info/requires.txt -> build/bdist.linux-x86_64/egg/EGG-INFO\n",
            "copying pystacknet.egg-info/top_level.txt -> build/bdist.linux-x86_64/egg/EGG-INFO\n",
            "zip_safe flag not set; analyzing archive contents...\n",
            "creating dist\n",
            "creating 'dist/pystacknet-0.0.1-py3.8.egg' and adding 'build/bdist.linux-x86_64/egg' to it\n",
            "removing 'build/bdist.linux-x86_64/egg' (and everything under it)\n",
            "Processing pystacknet-0.0.1-py3.8.egg\n",
            "Copying pystacknet-0.0.1-py3.8.egg to /usr/local/lib/python3.8/dist-packages\n",
            "Adding pystacknet 0.0.1 to easy-install.pth file\n",
            "\n",
            "Installed /usr/local/lib/python3.8/dist-packages/pystacknet-0.0.1-py3.8.egg\n",
            "Processing dependencies for pystacknet==0.0.1\n",
            "Searching for scikit-learn==1.0.2\n",
            "Best match: scikit-learn 1.0.2\n",
            "Adding scikit-learn 1.0.2 to easy-install.pth file\n",
            "\n",
            "Using /usr/local/lib/python3.8/dist-packages\n",
            "Searching for scipy==1.7.3\n",
            "Best match: scipy 1.7.3\n",
            "Adding scipy 1.7.3 to easy-install.pth file\n",
            "\n",
            "Using /usr/local/lib/python3.8/dist-packages\n",
            "Searching for numpy==1.21.6\n",
            "Best match: numpy 1.21.6\n",
            "Adding numpy 1.21.6 to easy-install.pth file\n",
            "Installing f2py script to /usr/local/bin\n",
            "Installing f2py3 script to /usr/local/bin\n",
            "Installing f2py3.8 script to /usr/local/bin\n",
            "\n",
            "Using /usr/local/lib/python3.8/dist-packages\n",
            "Searching for threadpoolctl==3.1.0\n",
            "Best match: threadpoolctl 3.1.0\n",
            "Adding threadpoolctl 3.1.0 to easy-install.pth file\n",
            "\n",
            "Using /usr/local/lib/python3.8/dist-packages\n",
            "Searching for joblib==1.2.0\n",
            "Best match: joblib 1.2.0\n",
            "Adding joblib 1.2.0 to easy-install.pth file\n",
            "\n",
            "Using /usr/local/lib/python3.8/dist-packages\n",
            "Finished processing dependencies for pystacknet==0.0.1\n"
          ]
        },
        {
          "data": {
            "text/plain": []
          },
          "execution_count": 15,
          "metadata": {},
          "output_type": "execute_result"
        }
      ],
      "source": [
        "%%shell\n",
        "git clone https://github.com/h2oai/pystacknet\n",
        "cd pystacknet\n",
        "python setup.py install"
      ]
    },
    {
      "cell_type": "code",
      "execution_count": null,
      "metadata": {
        "id": "v7PysPKh9dCS"
      },
      "outputs": [],
      "source": [
        "from sklearn.linear_model import LogisticRegression\n",
        "from sklearn.metrics import classification_report\n",
        "from sklearn.metrics import accuracy_score"
      ]
    },
    {
      "cell_type": "markdown",
      "metadata": {
        "id": "Lquxra_l1rFm"
      },
      "source": [
        "### XGBoost"
      ]
    },
    {
      "cell_type": "code",
      "execution_count": null,
      "metadata": {
        "colab": {
          "base_uri": "https://localhost:8080/"
        },
        "id": "HmVrhoBexfy0",
        "outputId": "a98e9788-f4c7-4c70-8ae7-17f8dd8fc98f"
      },
      "outputs": [
        {
          "name": "stdout",
          "output_type": "stream",
          "text": [
            "0.9275\n",
            "0.86\n",
            "              precision    recall  f1-score   support\n",
            "\n",
            "           0       0.83      0.91      0.87       100\n",
            "           1       0.90      0.81      0.85       100\n",
            "\n",
            "    accuracy                           0.86       200\n",
            "   macro avg       0.86      0.86      0.86       200\n",
            "weighted avg       0.86      0.86      0.86       200\n",
            "\n"
          ]
        }
      ],
      "source": [
        "Y = train_df['N_category']\n",
        "X = train_df.drop(columns = ['N_category'])\n",
        "\n",
        "\n",
        "xtest = test_df.iloc[:,:]\n",
        "\n",
        "from sklearn.model_selection import train_test_split\n",
        "xtrain, xval, ytrain, yval = train_test_split(X,Y,test_size=0.20,random_state=41) \n",
        "\n",
        "\n",
        "import xgboost as xgb\n",
        "\n",
        "simple_model = xgb.XGBClassifier(\n",
        "   n_estimators=500,\n",
        "   max_depth=7,\n",
        "   learning_rate=0.05,\n",
        "   subsample=0.9,\n",
        "#   colsample_bytree=0.9,\n",
        "   \n",
        "   random_state=2019,\n",
        "   tree_method='gpu_hist',\n",
        " \n",
        ")\n",
        "simple_model.fit(xtrain, ytrain,eval_set=[(xtrain,ytrain),(xval,yval)], early_stopping_rounds=200,verbose=False, eval_metric = [\"auc\",\"error\"])\n",
        "\n",
        "pred = simple_model.predict(xval)\n",
        "\n",
        "print(simple_model.score(xtrain,ytrain))\n",
        "print(accuracy_score(pred, yval))\n",
        "print(classification_report(yval, pred))\n",
        "\n",
        "result = simple_model.predict(xtest)"
      ]
    },
    {
      "cell_type": "code",
      "execution_count": null,
      "metadata": {
        "colab": {
          "base_uri": "https://localhost:8080/",
          "height": 281
        },
        "id": "0plh-YmMW4IF",
        "outputId": "0413a5d6-0d9c-4da3-e489-e29f84ae2608"
      },
      "outputs": [
        {
          "data": {
            "image/png": "[encoded data removed]",
            "text/plain": [
              "<Figure size 432x288 with 1 Axes>"
            ]
          },
          "metadata": {
            "needs_background": "light"
          },
          "output_type": "display_data"
        }
      ],
      "source": [
        "results = simple_model.evals_result()\n",
        "epochs = len(results['validation_0']['error'])\n",
        "x_axis = range(0, epochs)\n",
        "\n",
        "fig, ax = plt.subplots()\n",
        "ax.plot(x_axis, results['validation_0']['auc'], label='Train')\n",
        "ax.plot(x_axis, results['validation_1']['auc'], label='val')\n",
        "ax.legend()\n",
        "plt.ylabel('AUC')\n",
        "plt.title('XGBoost AUC')\n",
        "plt.show()"
      ]
    },
    {
      "cell_type": "markdown",
      "metadata": {
        "id": "CsYm4Ou0TAZm"
      },
      "source": [
        "#### importance plot"
      ]
    },
    {
      "cell_type": "code",
      "execution_count": null,
      "metadata": {
        "colab": {
          "base_uri": "https://localhost:8080/",
          "height": 748
        },
        "id": "KYxJBX98nTuV",
        "outputId": "5f920428-bfa2-4e99-bdfd-2a8d704dc0d5"
      },
      "outputs": [
        {
          "data": {
            "text/plain": [
              "<matplotlib.axes._subplots.AxesSubplot at 0x7f4edb318c10>"
            ]
          },
          "execution_count": 19,
          "metadata": {},
          "output_type": "execute_result"
        },
        {
          "data": {
            "image/png": "[encoded data removed]",
            "text/plain": [
              "<Figure size 720x864 with 1 Axes>"
            ]
          },
          "metadata": {
            "needs_background": "light"
          },
          "output_type": "display_data"
        }
      ],
      "source": [
        "from xgboost import plot_importance\n",
        "import matplotlib.pyplot as plt\n",
        "\n",
        "fig, ax = plt.subplots(figsize=(10,12))\n",
        "plot_importance(simple_model,ax=ax)"
      ]
    },
    {
      "cell_type": "markdown",
      "metadata": {
        "id": "uR6INdV_0okv"
      },
      "source": [
        "### XGB LGB models and training"
      ]
    },
    {
      "cell_type": "code",
      "execution_count": null,
      "metadata": {
        "colab": {
          "base_uri": "https://localhost:8080/"
        },
        "id": "Bsgc2_Pu1EPx",
        "outputId": "4596d04b-7b99-4f3a-9474-ba2a816b4412"
      },
      "outputs": [
        {
          "name": "stdout",
          "output_type": "stream",
          "text": [
            "KFold(n_splits=5, random_state=None, shuffle=True)\n"
          ]
        }
      ],
      "source": [
        "from sklearn.model_selection import TimeSeriesSplit,KFold\n",
        "n_fold = 5\n",
        "folds = KFold(n_splits=n_fold,shuffle=True)\n",
        "\n",
        "Y = train_df['N_category']\n",
        "X = train_df.drop(columns = ['N_category'])\n",
        "\n",
        "xtest = test_df.iloc[:,:]\n",
        "\n",
        "print(folds)"
      ]
    },
    {
      "cell_type": "code",
      "execution_count": null,
      "metadata": {
        "colab": {
          "base_uri": "https://localhost:8080/"
        },
        "id": "NxjzC09y0okv",
        "outputId": "1ce2d21b-9d84-44fd-d5d8-d52880dbea58",
        "trusted": true
      },
      "outputs": [
        {
          "name": "stdout",
          "output_type": "stream",
          "text": [
            "0\n",
            "finish train\n",
            "finish pred\n",
            "ROC accuracy: 0.9099749373433584\n",
            "1\n",
            "finish train\n",
            "finish pred\n",
            "ROC accuracy: 0.8507447665056361\n",
            "2\n",
            "finish train\n",
            "finish pred\n",
            "ROC accuracy: 0.8610444177671069\n",
            "3\n",
            "finish train\n",
            "finish pred\n",
            "ROC accuracy: 0.8954235246888799\n",
            "4\n",
            "finish train\n",
            "finish pred\n",
            "ROC accuracy: 0.9026548672566371\n"
          ]
        }
      ],
      "source": [
        "# LGB model kfold\n",
        "sample_submission = pd.read_csv(base+'sample_submission.csv')\n",
        "lgb_submission=sample_submission.copy()\n",
        "lgb_submission['N_category'] = 0\n",
        "import gc\n",
        "import lightgbm as lgb\n",
        "from sklearn.metrics import roc_auc_score\n",
        "for fold_n, (train_index, valid_index) in enumerate(folds.split(X)):\n",
        "    print(fold_n)\n",
        "    \n",
        "    lgbclf = lgb.LGBMClassifier(\n",
        "        num_leaves= 512,\n",
        "        n_estimators=512,\n",
        "        max_depth=9,\n",
        "        learning_rate=0.064,\n",
        "        subsample=0.85,\n",
        "        colsample_bytree=0.85,\n",
        "        boosting_type= \"gbdt\",\n",
        "        reg_alpha=0.3,\n",
        "        reg_lamdba=0.243\n",
        "    )\n",
        "    \n",
        "    X_, X_valid = X.iloc[train_index], X.iloc[valid_index]\n",
        "    Y_, y_valid = Y.iloc[train_index], Y.iloc[valid_index]\n",
        "    lgbclf.fit(X_,Y_)\n",
        "    \n",
        "    del X_,Y_\n",
        "    print('finish train')\n",
        "    pred=lgbclf.predict_proba(xtest)[:,1]\n",
        "    val=lgbclf.predict_proba(X_valid)[:,1]\n",
        "    print('finish pred')\n",
        "    del lgbclf, X_valid\n",
        "    print('ROC accuracy: {}'.format(roc_auc_score(y_valid, val)))\n",
        "    del val,y_valid\n",
        "    lgb_submission['N_category'] = lgb_submission['N_category']+pred/n_fold\n",
        "    del pred\n",
        "    gc.collect()\n"
      ]
    },
    {
      "cell_type": "code",
      "execution_count": null,
      "metadata": {
        "colab": {
          "base_uri": "https://localhost:8080/"
        },
        "id": "sQYCB-Bn0okv",
        "outputId": "6b7874c9-f06e-4837-fe20-16d0e3bd3964",
        "trusted": true
      },
      "outputs": [
        {
          "name": "stdout",
          "output_type": "stream",
          "text": [
            "0\n",
            "ROC accuracy: 0.8863181089743589\n",
            "1\n",
            "ROC accuracy: 0.9041466346153847\n",
            "2\n",
            "ROC accuracy: 0.8869318756959206\n",
            "3\n",
            "ROC accuracy: 0.8848631239935588\n",
            "4\n",
            "ROC accuracy: 0.8970662365157779\n"
          ]
        }
      ],
      "source": [
        "# XGB model kfold\n",
        "xgb_submission=sample_submission.copy()\n",
        "xgb_submission['N_category'] = 0\n",
        "import xgboost as xgb\n",
        "from sklearn.metrics import roc_auc_score\n",
        "for fold_n, (train_index, valid_index) in enumerate(folds.split(X)):\n",
        "    print(fold_n)\n",
        "    xgbclf = xgb.XGBClassifier(\n",
        "            n_estimators=500,\n",
        "            max_depth=7,\n",
        "            learning_rate=0.05,\n",
        "            subsample=0.9,\n",
        "            #   colsample_bytree=0.9,\n",
        "            \n",
        "            random_state=2019,\n",
        "            tree_method='gpu_hist',\n",
        "    )\n",
        "    \n",
        "    X_, X_valid = X.iloc[train_index], X.iloc[valid_index]\n",
        "    Y_, y_valid = Y.iloc[train_index], Y.iloc[valid_index]\n",
        "    xgbclf.fit(X_,Y_)\n",
        "    del X_,Y_\n",
        "    pred=xgbclf.predict_proba(xtest)[:,1]\n",
        "    val=xgbclf.predict_proba(X_valid)[:,1]\n",
        "    del xgbclf, X_valid\n",
        "    print('ROC accuracy: {}'.format(roc_auc_score(y_valid, val)))\n",
        "    del val,y_valid\n",
        "    xgb_submission['N_category'] = xgb_submission['N_category']+pred/n_fold\n",
        "    del pred\n",
        "    gc.collect()\n",
        "\n"
      ]
    },
    {
      "cell_type": "markdown",
      "metadata": {
        "id": "ur2kHWWj0okw"
      },
      "source": [
        "### Stacking models and training"
      ]
    },
    {
      "cell_type": "code",
      "execution_count": null,
      "metadata": {
        "id": "ahSpwy_o0okw",
        "trusted": true
      },
      "outputs": [],
      "source": [
        "# Stacking model kfold\n",
        "import lightgbm as lgb\n",
        "import xgboost as xgb\n",
        "from sklearn.ensemble import RandomForestRegressor\n",
        "lgbclf = lgb.LGBMRegressor(\n",
        "        num_leaves= 512,\n",
        "        n_estimators=512,\n",
        "        max_depth=9,\n",
        "        learning_rate=0.064,\n",
        "        subsample=0.85,\n",
        "        colsample_bytree=0.85,\n",
        "        boosting_type= \"gbdt\",\n",
        "        reg_alpha=0.3,\n",
        "        reg_lamdba=0.243,\n",
        "        metric=\"AUC\"\n",
        "    )\n",
        "xgbclf = xgb.XGBRegressor(\n",
        "        n_estimators=500,\n",
        "        max_depth=7,\n",
        "        learning_rate=0.05,\n",
        "        subsample=0.9,\n",
        "        #   colsample_bytree=0.9,\n",
        "        \n",
        "        random_state=2019,\n",
        "        tree_method='gpu_hist',\n",
        "    )\n",
        "rfclf = RandomForestRegressor(n_estimators=512,\n",
        "                              max_depth=5, \n",
        "                                max_features='sqrt', \n",
        "                                random_state=0)"
      ]
    },
    {
      "cell_type": "code",
      "execution_count": null,
      "metadata": {
        "id": "Z8kP3Owa0okw",
        "trusted": true
      },
      "outputs": [],
      "source": [
        "models = [[lgbclf,xgbclf], # Level 1\n",
        "          [rfclf]] # Level 2"
      ]
    },
    {
      "cell_type": "markdown",
      "metadata": {
        "id": "qTEkEgBd0okw"
      },
      "source": [
        "cut down features to avoid the kernel die"
      ]
    },
    {
      "cell_type": "code",
      "execution_count": null,
      "metadata": {
        "colab": {
          "base_uri": "https://localhost:8080/"
        },
        "id": "eSa1JBIA0okw",
        "outputId": "7f5877b9-b777-451f-8768-68c462714e96",
        "trusted": true
      },
      "outputs": [
        {
          "name": "stdout",
          "output_type": "stream",
          "text": [
            "[(0.3352, 'date'), (0.1234, 'NG'), (0.0673, 'HG_score_2'), (0.0604, 'size'), (0.0348, 'img_feature004'), (0.0323, 'ratio'), (0.0319, 'img_feature001'), (0.0317, 'img_feature005'), (0.0316, 'ratio2'), (0.0315, 'age'), (0.0232, 'img_feature003'), (0.0218, 'PR_Allred_score'), (0.021, 'DCIS_or_LCIS_existence'), (0.0192, 'img_feature002'), (0.019, 'DCIS_or_LCIS_type'), (0.0189, 'KI-67_LI_percent'), (0.0126, 'location_both'), (0.0088, 'HER2_SISH_ratio'), (0.0085, 'Diagnosis_lobular'), (0.008, 'HER2_IHC'), (0.0072, 'count'), (0.0066, 'HG_score_1'), (0.0064, 'HG'), (0.0061, 'ER_Allred_score'), (0.0047, 'HG_score_3'), (0.0044, 'T_category'), (0.0038, 'location_left'), (0.0033, 'PR'), (0.003, 'location_right'), (0.003, 'HER2'), (0.0028, 'HER2_SISH'), (0.0026, 'ER'), (0.0019, 'Diagnosis_ductal'), (0.0014, 'Diagnosis_other'), (0.001, 'BRCA_mutation'), (0.0004, 'Diagnosis_mucinous')]\n"
          ]
        }
      ],
      "source": [
        "X=X.replace(np.inf,-999)\n",
        "X=X.replace(-np.inf,-999)\n",
        "xtest=xtest.replace(np.inf,-999)\n",
        "xtest=xtest.replace(-np.inf,-999)\n",
        "\n",
        "from sklearn.ensemble import RandomForestRegressor\n",
        "rf = RandomForestRegressor()\n",
        "rf.fit(X, Y)\n",
        "feature_cols=X.columns.values.tolist()\n",
        "\n",
        "\n",
        "feature_imp=sorted(zip(map(lambda x: round(x, 4), rf.feature_importances_), feature_cols), \n",
        "             reverse=True)\n",
        "print(feature_imp)\n",
        "del rf"
      ]
    },
    {
      "cell_type": "code",
      "execution_count": null,
      "metadata": {
        "colab": {
          "base_uri": "https://localhost:8080/"
        },
        "id": "IBx2wl8XiKDE",
        "outputId": "fe6abce7-0128-4029-991a-e92ad4043d8f"
      },
      "outputs": [
        {
          "data": {
            "text/plain": [
              "36"
            ]
          },
          "execution_count": 44,
          "metadata": {},
          "output_type": "execute_result"
        }
      ],
      "source": [
        "len(feature_imp)"
      ]
    },
    {
      "cell_type": "code",
      "execution_count": null,
      "metadata": {
        "colab": {
          "base_uri": "https://localhost:8080/"
        },
        "id": "Q-wwTJj10okw",
        "outputId": "d954e6a3-1a02-45fc-e171-8f78cdbdf49c",
        "trusted": true
      },
      "outputs": [
        {
          "name": "stdout",
          "output_type": "stream",
          "text": [
            "reduce dimention finished\n"
          ]
        }
      ],
      "source": [
        "feature_imp=[x[1] for x in feature_imp]\n",
        "X=X[feature_imp[:27]].values\n",
        "xtest=xtest[feature_imp[:27]].values\n",
        "\n",
        "print('reduce dimention finished')"
      ]
    },
    {
      "cell_type": "code",
      "execution_count": null,
      "metadata": {
        "colab": {
          "base_uri": "https://localhost:8080/"
        },
        "id": "QbuHGHmq0okx",
        "outputId": "b0ef3324-1ce6-40c6-f064-9a705160150f",
        "trusted": true
      },
      "outputs": [
        {
          "name": "stdout",
          "output_type": "stream",
          "text": [
            "====================== Start of Level 0 ======================\n",
            "Input Dimensionality 27 at Level 0 \n",
            "2 models included in Level 0 \n",
            "[02:23:59] WARNING: /workspace/src/objective/regression_obj.cu:152: reg:linear is now deprecated in favor of reg:squarederror.\n",
            "Fold 1/5 , model 0 , auc===0.863960 \n",
            "Fold 1/5 , model 1 , auc===0.882105 \n",
            "=========== end of fold 1 in level 0 ===========\n",
            "[02:24:03] WARNING: /workspace/src/objective/regression_obj.cu:152: reg:linear is now deprecated in favor of reg:squarederror.\n",
            "Fold 2/5 , model 0 , auc===0.873545 \n",
            "Fold 2/5 , model 1 , auc===0.892212 \n",
            "=========== end of fold 2 in level 0 ===========\n",
            "[02:24:07] WARNING: /workspace/src/objective/regression_obj.cu:152: reg:linear is now deprecated in favor of reg:squarederror.\n",
            "Fold 3/5 , model 0 , auc===0.875924 \n",
            "Fold 3/5 , model 1 , auc===0.885057 \n",
            "=========== end of fold 3 in level 0 ===========\n",
            "[02:24:11] WARNING: /workspace/src/objective/regression_obj.cu:152: reg:linear is now deprecated in favor of reg:squarederror.\n",
            "Fold 4/5 , model 0 , auc===0.889601 \n",
            "Fold 4/5 , model 1 , auc===0.912221 \n",
            "=========== end of fold 4 in level 0 ===========\n",
            "[02:24:14] WARNING: /workspace/src/objective/regression_obj.cu:152: reg:linear is now deprecated in favor of reg:squarederror.\n",
            "Fold 5/5 , model 0 , auc===0.922000 \n",
            "Fold 5/5 , model 1 , auc===0.911000 \n",
            "=========== end of fold 5 in level 0 ===========\n",
            "[02:24:18] WARNING: /workspace/src/objective/regression_obj.cu:152: reg:linear is now deprecated in favor of reg:squarederror.\n",
            "Output dimensionality of level 0 is 2 \n",
            "====================== End of Level 0 ======================\n",
            " level 0 lasted 22.310791 seconds \n",
            "====================== Start of Level 1 ======================\n",
            "Input Dimensionality 2 at Level 1 \n",
            "1 models included in Level 1 \n",
            "Fold 1/5 , model 0 , auc===0.880652 \n",
            "=========== end of fold 1 in level 1 ===========\n",
            "Fold 2/5 , model 0 , auc===0.887094 \n",
            "=========== end of fold 2 in level 1 ===========\n",
            "Fold 3/5 , model 0 , auc===0.880593 \n",
            "=========== end of fold 3 in level 1 ===========\n",
            "Fold 4/5 , model 0 , auc===0.904514 \n",
            "=========== end of fold 4 in level 1 ===========\n",
            "Fold 5/5 , model 0 , auc===0.888400 \n",
            "=========== end of fold 5 in level 1 ===========\n",
            "Output dimensionality of level 1 is 1 \n",
            "====================== End of Level 1 ======================\n",
            " level 1 lasted 3.845463 seconds \n",
            "====================== End of fit ======================\n",
            " fit() lasted 26.157553 seconds \n"
          ]
        }
      ],
      "source": [
        "from pystacknet.pystacknet.pystacknet import StackNetClassifier\n",
        "\n",
        "# Specify parameters for stacked model and begin training\n",
        "model = StackNetClassifier(models, \n",
        "                           metric=\"auc\", \n",
        "                           folds=5,\n",
        "                           restacking=False,\n",
        "                           use_retraining=True,\n",
        "                           use_proba=True, # To use predict_proba after training\n",
        "                           random_state=0,\n",
        "                           n_jobs=1, \n",
        "                           verbose=1)\n",
        "\n",
        "# Fit the entire model tree\n",
        "del models\n",
        "model.fit(X, Y)"
      ]
    },
    {
      "cell_type": "markdown",
      "metadata": {
        "id": "88BJG-Pogaxd"
      },
      "source": [
        "### Predict and Export"
      ]
    },
    {
      "cell_type": "code",
      "execution_count": null,
      "metadata": {
        "colab": {
          "base_uri": "https://localhost:8080/"
        },
        "id": "UHEGsbpr0okx",
        "outputId": "0d2b26b2-90f2-4f16-fcf0-3bf5b92dad47",
        "trusted": true
      },
      "outputs": [
        {
          "name": "stdout",
          "output_type": "stream",
          "text": [
            "====================== Start of Level 0 ======================\n",
            "1 estimators included in Level 0 \n",
            "====================== Start of Level 1 ======================\n",
            "1 estimators included in Level 1 \n"
          ]
        }
      ],
      "source": [
        "# Write predictions to csv\n",
        "stack_submission = sample_submission.copy()\n",
        "preds = model.predict_proba(xtest)[:, 1]\n",
        "stack_submission['N_category'] = preds"
      ]
    },
    {
      "cell_type": "code",
      "execution_count": null,
      "metadata": {
        "colab": {
          "base_uri": "https://localhost:8080/",
          "height": 424
        },
        "id": "JyppDOq_7lKY",
        "outputId": "83ab3335-f6bc-46ef-d0a3-d9518c9e0ba3"
      },
      "outputs": [
        {
          "data": {
            "text/html": [
              "\n",
              "  <div id=\"df-a415d3fe-6af8-4931-8d0e-0c2d9df89fa0\">\n",
              "    <div class=\"colab-df-container\">\n",
              "      <div>\n",
              "<style scoped>\n",
              "    .dataframe tbody tr th:only-of-type {\n",
              "        vertical-align: middle;\n",
              "    }\n",
              "\n",
              "    .dataframe tbody tr th {\n",
              "        vertical-align: top;\n",
              "    }\n",
              "\n",
              "    .dataframe thead th {\n",
              "        text-align: right;\n",
              "    }\n",
              "</style>\n",
              "<table border=\"1\" class=\"dataframe\">\n",
              "  <thead>\n",
              "    <tr style=\"text-align: right;\">\n",
              "      <th></th>\n",
              "      <th>ID</th>\n",
              "      <th>N_category</th>\n",
              "    </tr>\n",
              "  </thead>\n",
              "  <tbody>\n",
              "    <tr>\n",
              "      <th>0</th>\n",
              "      <td>BC_01_0011</td>\n",
              "      <td>0.527366</td>\n",
              "    </tr>\n",
              "    <tr>\n",
              "      <th>1</th>\n",
              "      <td>BC_01_0220</td>\n",
              "      <td>0.230202</td>\n",
              "    </tr>\n",
              "    <tr>\n",
              "      <th>2</th>\n",
              "      <td>BC_01_0233</td>\n",
              "      <td>0.054945</td>\n",
              "    </tr>\n",
              "    <tr>\n",
              "      <th>3</th>\n",
              "      <td>BC_01_0258</td>\n",
              "      <td>0.071921</td>\n",
              "    </tr>\n",
              "    <tr>\n",
              "      <th>4</th>\n",
              "      <td>BC_01_0260</td>\n",
              "      <td>0.657415</td>\n",
              "    </tr>\n",
              "    <tr>\n",
              "      <th>...</th>\n",
              "      <td>...</td>\n",
              "      <td>...</td>\n",
              "    </tr>\n",
              "    <tr>\n",
              "      <th>245</th>\n",
              "      <td>BC_01_3328</td>\n",
              "      <td>0.861613</td>\n",
              "    </tr>\n",
              "    <tr>\n",
              "      <th>246</th>\n",
              "      <td>BC_01_3404</td>\n",
              "      <td>0.261123</td>\n",
              "    </tr>\n",
              "    <tr>\n",
              "      <th>247</th>\n",
              "      <td>BC_01_3418</td>\n",
              "      <td>0.326953</td>\n",
              "    </tr>\n",
              "    <tr>\n",
              "      <th>248</th>\n",
              "      <td>BC_01_3438</td>\n",
              "      <td>0.034212</td>\n",
              "    </tr>\n",
              "    <tr>\n",
              "      <th>249</th>\n",
              "      <td>BC_01_3446</td>\n",
              "      <td>0.282277</td>\n",
              "    </tr>\n",
              "  </tbody>\n",
              "</table>\n",
              "<p>250 rows × 2 columns</p>\n",
              "</div>\n",
              "      <button class=\"colab-df-convert\" onclick=\"convertToInteractive('df-a415d3fe-6af8-4931-8d0e-0c2d9df89fa0')\"\n",
              "              title=\"Convert this dataframe to an interactive table.\"\n",
              "              style=\"display:none;\">\n",
              "        \n",
              "  <svg xmlns=\"http://www.w3.org/2000/svg\" height=\"24px\"viewBox=\"0 0 24 24\"\n",
              "       width=\"24px\">\n",
              "    <path d=\"M0 0h24v24H0V0z\" fill=\"none\"/>\n",
              "    <path d=\"M18.56 5.44l.94 2.06.94-2.06 2.06-.94-2.06-.94-.94-2.06-.94 2.06-2.06.94zm-11 1L8.5 8.5l.94-2.06 2.06-.94-2.06-.94L8.5 2.5l-.94 2.06-2.06.94zm10 10l.94 2.06.94-2.06 2.06-.94-2.06-.94-.94-2.06-.94 2.06-2.06.94z\"/><path d=\"M17.41 7.96l-1.37-1.37c-.4-.4-.92-.59-1.43-.59-.52 0-1.04.2-1.43.59L10.3 9.45l-7.72 7.72c-.78.78-.78 2.05 0 2.83L4 21.41c.39.39.9.59 1.41.59.51 0 1.02-.2 1.41-.59l7.78-7.78 2.81-2.81c.8-.78.8-2.07 0-2.86zM5.41 20L4 18.59l7.72-7.72 1.47 1.35L5.41 20z\"/>\n",
              "  </svg>\n",
              "      </button>\n",
              "      \n",
              "  <style>\n",
              "    .colab-df-container {\n",
              "      display:flex;\n",
              "      flex-wrap:wrap;\n",
              "      gap: 12px;\n",
              "    }\n",
              "\n",
              "    .colab-df-convert {\n",
              "      background-color: #E8F0FE;\n",
              "      border: none;\n",
              "      border-radius: 50%;\n",
              "      cursor: pointer;\n",
              "      display: none;\n",
              "      fill: #1967D2;\n",
              "      height: 32px;\n",
              "      padding: 0 0 0 0;\n",
              "      width: 32px;\n",
              "    }\n",
              "\n",
              "    .colab-df-convert:hover {\n",
              "      background-color: #E2EBFA;\n",
              "      box-shadow: 0px 1px 2px rgba(60, 64, 67, 0.3), 0px 1px 3px 1px rgba(60, 64, 67, 0.15);\n",
              "      fill: #174EA6;\n",
              "    }\n",
              "\n",
              "    [theme=dark] .colab-df-convert {\n",
              "      background-color: #3B4455;\n",
              "      fill: #D2E3FC;\n",
              "    }\n",
              "\n",
              "    [theme=dark] .colab-df-convert:hover {\n",
              "      background-color: #434B5C;\n",
              "      box-shadow: 0px 1px 3px 1px rgba(0, 0, 0, 0.15);\n",
              "      filter: drop-shadow(0px 1px 2px rgba(0, 0, 0, 0.3));\n",
              "      fill: #FFFFFF;\n",
              "    }\n",
              "  </style>\n",
              "\n",
              "      <script>\n",
              "        const buttonEl =\n",
              "          document.querySelector('#df-a415d3fe-6af8-4931-8d0e-0c2d9df89fa0 button.colab-df-convert');\n",
              "        buttonEl.style.display =\n",
              "          google.colab.kernel.accessAllowed ? 'block' : 'none';\n",
              "\n",
              "        async function convertToInteractive(key) {\n",
              "          const element = document.querySelector('#df-a415d3fe-6af8-4931-8d0e-0c2d9df89fa0');\n",
              "          const dataTable =\n",
              "            await google.colab.kernel.invokeFunction('convertToInteractive',\n",
              "                                                     [key], {});\n",
              "          if (!dataTable) return;\n",
              "\n",
              "          const docLinkHtml = 'Like what you see? Visit the ' +\n",
              "            '<a target=\"_blank\" href=https://colab.research.google.com/notebooks/data_table.ipynb>data table notebook</a>'\n",
              "            + ' to learn more about interactive tables.';\n",
              "          element.innerHTML = '';\n",
              "          dataTable['output_type'] = 'display_data';\n",
              "          await google.colab.output.renderOutput(dataTable, element);\n",
              "          const docLink = document.createElement('div');\n",
              "          docLink.innerHTML = docLinkHtml;\n",
              "          element.appendChild(docLink);\n",
              "        }\n",
              "      </script>\n",
              "    </div>\n",
              "  </div>\n",
              "  "
            ],
            "text/plain": [
              "             ID  N_category\n",
              "0    BC_01_0011    0.527366\n",
              "1    BC_01_0220    0.230202\n",
              "2    BC_01_0233    0.054945\n",
              "3    BC_01_0258    0.071921\n",
              "4    BC_01_0260    0.657415\n",
              "..          ...         ...\n",
              "245  BC_01_3328    0.861613\n",
              "246  BC_01_3404    0.261123\n",
              "247  BC_01_3418    0.326953\n",
              "248  BC_01_3438    0.034212\n",
              "249  BC_01_3446    0.282277\n",
              "\n",
              "[250 rows x 2 columns]"
            ]
          },
          "execution_count": 48,
          "metadata": {},
          "output_type": "execute_result"
        }
      ],
      "source": [
        "stack_submission"
      ]
    },
    {
      "cell_type": "code",
      "execution_count": null,
      "metadata": {
        "id": "4paN72pT0okx",
        "trusted": true
      },
      "outputs": [],
      "source": [
        "# voting\n",
        "ensemble=sample_submission.copy()\n",
        "ensemble.N_category=lgb_submission.N_category*0.4+xgb_submission.N_category*0.4+stack_submission.N_category*0.2\n",
        "# ensemble.N_category=lgb_submission.N_category*0.5+xgb_submission.N_category*0.5\n",
        "ensemble.N_category = np.where(ensemble.N_category >= 0.5 , 1, 0)\n",
        "ensemble.to_csv('xgb_lgb_stacking305.csv', index=False)\n"
      ]
    },
    {
      "cell_type": "code",
      "execution_count": null,
      "metadata": {
        "colab": {
          "base_uri": "https://localhost:8080/"
        },
        "id": "CoJ7nFm00okx",
        "outputId": "0b3e8dda-7b9e-4187-e584-be39bbbd8c8f",
        "trusted": true
      },
      "outputs": [
        {
          "name": "stdout",
          "output_type": "stream",
          "text": [
            "           ID  N_category\n",
            "0  BC_01_0011           1\n",
            "1  BC_01_0220           0\n",
            "2  BC_01_0233           0\n",
            "3  BC_01_0258           0\n",
            "4  BC_01_0260           1\n"
          ]
        }
      ],
      "source": [
        "print(ensemble.head())"
      ]
    },
    {
      "cell_type": "code",
      "execution_count": null,
      "metadata": {
        "colab": {
          "base_uri": "https://localhost:8080/"
        },
        "id": "qRaMzCYN-2xM",
        "outputId": "61e4c689-383d-45d3-8696-ea1a39dac77c"
      },
      "outputs": [
        {
          "data": {
            "text/plain": [
              "0    129\n",
              "1    121\n",
              "Name: N_category, dtype: int64"
            ]
          },
          "execution_count": 52,
          "metadata": {},
          "output_type": "execute_result"
        }
      ],
      "source": [
        "ensemble['N_category'].value_counts()"
      ]
    },
    {
      "cell_type": "code",
      "execution_count": null,
      "metadata": {
        "id": "jPV0GZ7iihy1"
      },
      "outputs": [],
      "source": []
    }
  ],
  "metadata": {
    "accelerator": "GPU",
    "colab": {
      "collapsed_sections": [
        "RVGYah7mKB0b"
      ],
      "machine_shape": "hm",
      "provenance": []
    },
    "gpuClass": "standard",
    "kernelspec": {
      "display_name": "Python 3",
      "language": "python",
      "name": "python3"
    },
    "language_info": {
      "codemirror_mode": {
        "name": "ipython",
        "version": 3
      },
      "file_extension": ".py",
      "mimetype": "text/x-python",
      "name": "python",
      "nbconvert_exporter": "python",
      "pygments_lexer": "ipython3",
      "version": "3.10.4 (tags/v3.10.4:9d38120, Mar 23 2022, 23:13:41) [MSC v.1929 64 bit (AMD64)]"
    },
    "vscode": {
      "interpreter": {
        "hash": "928f821f6b86829143add00ce57faa48c1bec9eafb19fefb3216eee91b9a5dd3"
      }
    }
  },
  "nbformat": 4,
  "nbformat_minor": 0
}
